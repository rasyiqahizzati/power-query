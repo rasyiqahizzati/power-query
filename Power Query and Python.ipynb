{
 "cells": [
  {
   "cell_type": "markdown",
   "metadata": {},
   "source": [
    "Power Query is a powerful data transformation and preparation tool available in Excel and Power BI. It offers a wide range of capabilities that can significantly enhance your data workflows."
   ]
  },
  {
   "cell_type": "markdown",
   "metadata": {},
   "source": [
    "1. Data Import and Connectivity\n",
    "Multiple Data Sources: Power Query can connect to a wide variety of data sources, including Excel files, CSV files, databases (SQL Server, Oracle, MySQL, etc.), web pages, and cloud services1.\n",
    "Data Integration: It allows you to combine data from different sources into a single query, making it easier to analyze and report on integrated data"
   ]
  },
  {
   "cell_type": "markdown",
   "metadata": {},
   "source": [
    "2. Data Transformation\n",
    "Cleaning Data: Power Query provides tools to remove duplicates, filter rows, replace values, and handle missing data1.\n",
    "Shaping Data: You can reshape your data by pivoting and unpivoting columns, splitting and merging columns, and grouping data2.\n",
    "Custom Calculations: Create custom columns with calculated values using the M language, which is the formula language behind Power Query"
   ]
  },
  {
   "cell_type": "markdown",
   "metadata": {},
   "source": [
    "3. Automation\n",
    "Repeatable Processes: Once you set up a query, you can refresh it with a single click to update your data, saving time on repetitive tasks2.\n",
    "Scheduled Refresh: In Power BI, you can schedule automatic data refreshes to ensure your reports and dashboards are always up-to-date"
   ]
  },
  {
   "cell_type": "markdown",
   "metadata": {},
   "source": [
    "4. Data Modeling\n",
    "Data Relationships: Define relationships between different tables to create a data model that supports complex queries and analysis1.\n",
    "Dataflows: In Power BI, you can create dataflows to manage and reuse data transformations across multiple reports and dataset"
   ]
  },
  {
   "cell_type": "markdown",
   "metadata": {},
   "source": [
    "5. User-Friendly Interface\n",
    "Intuitive Editor: The Power Query Editor provides a graphical interface for applying transformations, making it accessible even for users without coding experience2.\n",
    "Step-by-Step Transformations: Each transformation step is recorded and can be reviewed, modified, or removed, providing transparency and control over the data preparation process"
   ]
  },
  {
   "cell_type": "markdown",
   "metadata": {},
   "source": [
    "Example Use Case :\n",
    "\n",
    "Imagine you receive a monthly sales report in a text file. With Power Query, you can automate the process of:\n",
    "\n",
    "- Importing the Data: Load the text file into Excel.\n",
    "\n",
    "- Cleaning the Data: Remove any unnecessary columns, handle missing values, and standardize formats.\n",
    "\n",
    "- Transforming the Data: Split columns, merge data from different sources, and create calculated fields.\n",
    "\n",
    "- Refreshing the Data: Set up a query that can be refreshed each month with a single click, updating your analysis automatically"
   ]
  },
  {
   "cell_type": "markdown",
   "metadata": {},
   "source": [
    " Let’s walk through an example of using Python in Power Query within Power BI to enrich your data. In this example, we’ll assume you have a dataset with customer information and you want to enrich it by adding a new column that categorizes customers based on their age."
   ]
  },
  {
   "cell_type": "markdown",
   "metadata": {},
   "source": [
    "Step-by-Step Guide\n",
    "Load Data into Power BI:\n",
    "Open Power BI Desktop.\n",
    "Load your dataset into Power BI. For this example, let’s assume you have a dataset with columns CustomerID, Name, and Age.\n",
    "Open Power Query Editor:\n",
    "Go to the Home tab and select Transform data to open the Power Query Editor.\n",
    "Run Python Script:\n",
    "In the Power Query Editor, go to the Transform tab and select Run Python Script.\n",
    "Enter your Python script in the editor. Here’s an example script that categorizes customers based on their age:\n"
   ]
  },
  {
   "cell_type": "code",
   "execution_count": null,
   "metadata": {},
   "outputs": [],
   "source": [
    "import pandas as pd\n",
    "\n",
    "# Convert the dataset to a pandas DataFrame\n",
    "df = pd.DataFrame(dataset)\n",
    "\n",
    "# Define a function to categorize age\n",
    "def categorize_age(age):\n",
    "    if age < 18:\n",
    "        return 'Minor'\n",
    "    elif 18 <= age < 65:\n",
    "        return 'Adult'\n",
    "    else:\n",
    "        return 'Senior'\n",
    "\n",
    "# Apply the function to create a new column 'AgeCategory'\n",
    "df['AgeCategory'] = df['Age'].apply(categorize_age)\n",
    "\n",
    "# Return the enriched DataFrame\n",
    "dataset = df\n"
   ]
  },
  {
   "cell_type": "markdown",
   "metadata": {},
   "source": [
    "Apply and Close:\n",
    "Click OK to run the script. Power Query will execute the Python script and add the new AgeCategory column to your dataset.\n",
    "Review the changes in the Power Query Editor. You should see the new AgeCategory column with values like ‘Minor’, ‘Adult’, and ‘Senior’ based on the age of each customer.\n",
    "Click Close & Apply to apply the changes and return to the main Power BI window."
   ]
  },
  {
   "cell_type": "markdown",
   "metadata": {},
   "source": [
    "Example Data Before and After Enrichment\n",
    "Before Enrichment:\n",
    "| CustomerID | Name       | Age |\n",
    "|------------|------------|-----|\n",
    "| 1          | John Doe   | 25  |\n",
    "| 2          | Jane Smith | 17  |\n",
    "| 3          | Alice Lee  | 70  |\n"
   ]
  },
  {
   "cell_type": "markdown",
   "metadata": {},
   "source": [
    "After Enrichment:\n",
    "| CustomerID | Name       | Age | AgeCategory |\n",
    "|------------|------------|-----|-------------|\n",
    "| 1          | John Doe   | 25  | Adult       |\n",
    "| 2          | Jane Smith | 17  | Minor       |\n",
    "| 3          | Alice Lee  | 70  | Senior      |\n"
   ]
  },
  {
   "cell_type": "markdown",
   "metadata": {},
   "source": [
    "Considerations :\n",
    "\n",
    "- Privacy Levels: Ensure that all data sources are set to public for the Python scripts to work properly in the Power BI service.\n",
    "\n",
    "- Performance: Running Python scripts can be resource-intensive, so be mindful of the performance impact, especially with large datasets."
   ]
  },
  {
   "cell_type": "markdown",
   "metadata": {},
   "source": [
    "Let’s walk through an example of using Python in Power Query within Power BI to perform text analysis. In this example, we’ll analyze customer reviews to determine the sentiment (positive, negative, or neutral) of each review."
   ]
  },
  {
   "cell_type": "markdown",
   "metadata": {},
   "source": [
    "Step-by-Step Guide\n",
    "\n",
    "1. Load Data into Power BI:\n",
    "Open Power BI Desktop.\n",
    "Load your dataset into Power BI. For this example, let’s assume you have a dataset with columns ReviewID, CustomerReview.\n",
    "\n",
    "2. Open Power Query Editor:\n",
    "Go to the Home tab and select Transform data to open the Power Query Editor.\n",
    "\n",
    "3. Run Python Script:\n",
    "In the Power Query Editor, go to the Transform tab and select Run Python Script.\n",
    "Enter your Python script in the editor. Here’s an example script that uses the TextBlob library to perform sentiment analysis on customer reviews:"
   ]
  },
  {
   "cell_type": "code",
   "execution_count": null,
   "metadata": {},
   "outputs": [],
   "source": [
    "import pandas as pd\n",
    "from textblob import TextBlob\n",
    "\n",
    "# Convert the dataset to a pandas DataFrame\n",
    "df = pd.DataFrame(dataset)\n",
    "\n",
    "# Define a function to analyze sentiment\n",
    "def analyze_sentiment(review):\n",
    "    analysis = TextBlob(review)\n",
    "    if analysis.sentiment.polarity > 0:\n",
    "        return 'Positive'\n",
    "    elif analysis.sentiment.polarity == 0:\n",
    "        return 'Neutral'\n",
    "    else:\n",
    "        return 'Negative'\n",
    "\n",
    "# Apply the function to create a new column 'Sentiment'\n",
    "df['Sentiment'] = df['CustomerReview'].apply(analyze_sentiment)\n",
    "\n",
    "# Return the enriched DataFrame\n",
    "dataset = df\n"
   ]
  },
  {
   "cell_type": "markdown",
   "metadata": {},
   "source": [
    "Install Required Libraries:\n",
    "Ensure that the TextBlob library is installed in your Python environment. You can install it using the following command:"
   ]
  },
  {
   "cell_type": "code",
   "execution_count": null,
   "metadata": {},
   "outputs": [],
   "source": [
    "pip install textblob\n"
   ]
  },
  {
   "cell_type": "markdown",
   "metadata": {},
   "source": [
    "Apply and Close:\n",
    "\n",
    "- Click OK to run the script. Power Query will execute the Python script and add the new Sentiment column to your dataset.\n",
    "- Review the changes in the Power Query Editor. You should see the new Sentiment column with values like ‘Positive’, ‘Neutral’, and ‘Negative’ based on the sentiment of each review.\n",
    "- Click Close & Apply to apply the changes and return to the main Power BI window."
   ]
  },
  {
   "cell_type": "markdown",
   "metadata": {},
   "source": [
    "Example Data Before and After Enrichment\n",
    "Before Enrichment:\n",
    "| ReviewID | CustomerReview                     |\n",
    "|----------|------------------------------------|\n",
    "| 1        | I love this product!               |\n",
    "| 2        | It's okay, not great but not bad.  |\n",
    "| 3        | I am very disappointed with this.  |\n"
   ]
  },
  {
   "cell_type": "markdown",
   "metadata": {},
   "source": [
    "After Enrichment:\n",
    "| ReviewID | CustomerReview                     | Sentiment |\n",
    "|----------|------------------------------------|-----------|\n",
    "| 1        | I love this product!               | Positive  |\n",
    "| 2        | It's okay, not great but not bad.  | Neutral   |\n",
    "| 3        | I am very disappointed with this.  | Negative  |\n"
   ]
  },
  {
   "cell_type": "markdown",
   "metadata": {},
   "source": [
    "Extracting keywords from text can provide valuable insights, especially for tasks like text analysis, sentiment analysis, and topic modeling. Here’s how you can use Python in Power Query within Power BI to extract keywords from text data."
   ]
  },
  {
   "cell_type": "markdown",
   "metadata": {},
   "source": [
    "Step-by-Step Guide\n",
    "\n",
    "1. Load Data into Power BI:\n",
    "Open Power BI Desktop.\n",
    "Load your dataset into Power BI. For this example, let’s assume you have a dataset with columns ReviewID and CustomerReview.\n",
    "\n",
    "2. Open Power Query Editor:\n",
    "Go to the Home tab and select Transform data to open the Power Query Editor.\n",
    "\n",
    "3. Run Python Script:\n",
    "In the Power Query Editor, go to the Transform tab and select Run Python Script.\n",
    "Enter your Python script in the editor. Here’s an example script that uses the nltk library to extract keywords from customer reviews:"
   ]
  },
  {
   "cell_type": "code",
   "execution_count": null,
   "metadata": {},
   "outputs": [],
   "source": [
    "import pandas as pd\n",
    "import nltk\n",
    "from nltk.corpus import stopwords\n",
    "from nltk.tokenize import word_tokenize\n",
    "from collections import Counter\n",
    "\n",
    "# Ensure you have the necessary NLTK data files\n",
    "nltk.download('punkt')\n",
    "nltk.download('stopwords')\n",
    "\n",
    "# Convert the dataset to a pandas DataFrame\n",
    "df = pd.DataFrame(dataset)\n",
    "\n",
    "# Define a function to extract keywords\n",
    "def extract_keywords(text):\n",
    "    stop_words = set(stopwords.words('english'))\n",
    "    word_tokens = word_tokenize(text)\n",
    "    filtered_words = [word for word in word_tokens if word.isalnum() and word.lower() not in stop_words]\n",
    "    most_common_words = Counter(filtered_words).most_common(5)  # Extract top 5 keywords\n",
    "    keywords = [word for word, freq in most_common_words]\n",
    "    return ', '.join(keywords)\n",
    "\n",
    "# Apply the function to create a new column 'Keywords'\n",
    "df['Keywords'] = df['CustomerReview'].apply(lambda x: extract_keywords(str(x)))\n",
    "\n",
    "# Return the enriched DataFrame\n",
    "dataset = df\n"
   ]
  },
  {
   "cell_type": "markdown",
   "metadata": {},
   "source": [
    "Install Required Libraries:\n",
    "Ensure that the nltk library is installed in your Python environment. You can install it using the following command:"
   ]
  },
  {
   "cell_type": "code",
   "execution_count": null,
   "metadata": {},
   "outputs": [],
   "source": [
    "pip install nltk\n"
   ]
  },
  {
   "cell_type": "markdown",
   "metadata": {},
   "source": [
    "Apply and Close:\n",
    "Click OK to run the script. Power Query will execute the Python script and add the new Keywords column to your dataset.\n",
    "Review the changes in the Power Query Editor. You should see the new Keywords column with extracted keywords for each review.\n",
    "Click Close & Apply to apply the changes and return to the main Power BI window."
   ]
  },
  {
   "cell_type": "markdown",
   "metadata": {},
   "source": [
    "Example Data Before and After Enrichment\n",
    "Before Enrichment:\n",
    "| ReviewID | CustomerReview                     |\n",
    "|----------|------------------------------------|\n",
    "| 1        | I love this product!               |\n",
    "| 2        | It's okay, not great but not bad.  |\n",
    "| 3        | I am very disappointed with this.  |\n"
   ]
  },
  {
   "cell_type": "markdown",
   "metadata": {},
   "source": [
    "After Enrichment:\n",
    "| ReviewID | CustomerReview                     | Keywords               |\n",
    "|----------|------------------------------------|------------------------|\n",
    "| 1        | I love this product!               | love, product          |\n",
    "| 2        | It's okay, not great but not bad.  | okay, great, bad       |\n",
    "| 3        | I am very disappointed with this.  | disappointed           |\n"
   ]
  }
 ],
 "metadata": {
  "kernelspec": {
   "display_name": "Python 3",
   "language": "python",
   "name": "python3"
  },
  "language_info": {
   "name": "python",
   "version": "3.11.9"
  }
 },
 "nbformat": 4,
 "nbformat_minor": 2
}
